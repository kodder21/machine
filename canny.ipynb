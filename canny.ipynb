{
 "cells": [
  {
   "cell_type": "markdown",
   "id": "6862d8c2",
   "metadata": {},
   "source": [
    "# 1. (c) Program to show the Edge detection in python programming using Canny Edge Detection algorithm\n"
   ]
  },
  {
   "cell_type": "code",
   "execution_count": 1,
   "id": "b8751b6f",
   "metadata": {},
   "outputs": [],
   "source": [
    "import cv2\n",
    "import numpy as np\n",
    "\n",
    "# Load the image\n",
    "img = cv2.imread('butterfly.jpg', 0)\n",
    "\n",
    "# Apply Canny edge detection filter\n",
    "edges = cv2.Canny(img, 100, 200)\n",
    "\n",
    "# Display the original and the edge detected image\n",
    "cv2.imshow('Original', img)\n",
    "cv2.imshow('Canny Edges', edges)\n",
    "cv2.waitKey(0)\n",
    "cv2.destroyAllWindows()"
   ]
  }
 ],
 "metadata": {
  "kernelspec": {
   "display_name": "Python 3 (ipykernel)",
   "language": "python",
   "name": "python3"
  },
  "language_info": {
   "codemirror_mode": {
    "name": "ipython",
    "version": 3
   },
   "file_extension": ".py",
   "mimetype": "text/x-python",
   "name": "python",
   "nbconvert_exporter": "python",
   "pygments_lexer": "ipython3",
   "version": "3.10.5"
  }
 },
 "nbformat": 4,
 "nbformat_minor": 5
}
