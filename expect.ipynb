{
 "cells": [
  {
   "cell_type": "markdown",
   "id": "30bb37d8",
   "metadata": {},
   "source": [
    "# 8. Program to implement Expectation-Maximization Algorithm  from scratch"
   ]
  },
  {
   "cell_type": "code",
   "execution_count": 6,
   "id": "7e99b039",
   "metadata": {},
   "outputs": [
    {
     "name": "stdout",
     "output_type": "stream",
     "text": [
      "Learned Cluster Means: [[2.5 1.5]\n",
      " [1.5 2.5]]\n",
      "Learned Cluster Covariances: [[[0.250001 0.25    ]\n",
      "  [0.25     0.250001]]\n",
      "\n",
      " [[0.250001 0.25    ]\n",
      "  [0.25     0.250001]]]\n",
      "Learned Cluster Weights: [0.5 0.5]\n"
     ]
    }
   ],
   "source": [
    "from sklearn.mixture import GaussianMixture\n",
    "import numpy as np\n",
    "\n",
    "# Define the training data\n",
    "X = np.array([[1.0, 2.0], [2.0, 1.0], [2.0, 3.0], [3.0, 2.0]])\n",
    "\n",
    "# Define the initial parameters for the GMM\n",
    "k = 2  # Number of clusters\n",
    "gmm = GaussianMixture(n_components=k, covariance_type='full')\n",
    "\n",
    "# Fit the GMM to the data using the EM algorithm\n",
    "gmm.fit(X)\n",
    "\n",
    "# Print the learned parameters\n",
    "print('Learned Cluster Means:', gmm.means_)\n",
    "print('Learned Cluster Covariances:', gmm.covariances_)\n",
    "print('Learned Cluster Weights:', gmm.weights_)"
   ]
  }
 ],
 "metadata": {
  "kernelspec": {
   "display_name": "Python 3 (ipykernel)",
   "language": "python",
   "name": "python3"
  },
  "language_info": {
   "codemirror_mode": {
    "name": "ipython",
    "version": 3
   },
   "file_extension": ".py",
   "mimetype": "text/x-python",
   "name": "python",
   "nbconvert_exporter": "python",
   "pygments_lexer": "ipython3",
   "version": "3.10.5"
  }
 },
 "nbformat": 4,
 "nbformat_minor": 5
}
