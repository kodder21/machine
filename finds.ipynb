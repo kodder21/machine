{
 "cells": [
  {
   "cell_type": "markdown",
   "id": "a4ccd5db",
   "metadata": {},
   "source": [
    "# 3. Program to implement Find-S Algorithm."
   ]
  },
  {
   "cell_type": "code",
   "execution_count": 1,
   "id": "41b9db8e",
   "metadata": {},
   "outputs": [],
   "source": [
    "import pandas as pd\n",
    "\n",
    "# Define the training data\n",
    "training_data = pd.DataFrame({\n",
    "    'Sky': ['Sunny', 'Sunny', 'Rainy', 'Sunny', 'Sunny', 'Rainy', 'Rainy', 'Sunny'],\n",
    "    'AirTemp': ['Warm', 'Warm', 'Cold', 'Warm', 'Warm', 'Cold', 'Cold', 'Warm'],\n",
    "    'Humidity': ['Normal', 'High', 'High', 'High', 'Normal', 'Normal', 'High', 'Normal'],\n",
    "    'Wind': ['Weak', 'Strong', 'Weak', 'Weak', 'Weak', 'Strong', 'Strong', 'Weak'],\n",
    "    'Water': ['Warm', 'Warm', 'Cool', 'Warm', 'Warm', 'Cool', 'Cool', 'Warm'],\n",
    "    'Forecast': ['Same', 'Same', 'Change', 'Same', 'Same', 'Change', 'Change', 'Same'],\n",
    "    'EnjoySport': ['Yes', 'Yes', 'No', 'Yes', 'Yes', 'No', 'No', 'Yes']\n",
    "})"
   ]
  },
  {
   "cell_type": "code",
   "execution_count": 2,
   "id": "111b6983",
   "metadata": {},
   "outputs": [],
   "source": [
    "# Define the Find-S algorithm\n",
    "def find_s_algorithm(training_data):\n",
    "    hypothesis = ['0'] * (len(training_data.columns) - 1)\n",
    "    for index, row in training_data.iterrows():\n",
    "        if row.iloc[-1] == 'Yes':\n",
    "            for i in range(len(hypothesis)):\n",
    "                if hypothesis[i] == '0':\n",
    "                    hypothesis[i] = row[i]\n",
    "                elif hypothesis[i] != row[i]:\n",
    "                    hypothesis[i] = '?'\n",
    "    return hypothesis"
   ]
  },
  {
   "cell_type": "code",
   "execution_count": 3,
   "id": "f08b417f",
   "metadata": {},
   "outputs": [],
   "source": [
    "# Run the Find-S algorithm on the training data\n",
    "hypothesis = find_s_algorithm(training_data)"
   ]
  },
  {
   "cell_type": "code",
   "execution_count": 4,
   "id": "3bff4ddd",
   "metadata": {},
   "outputs": [
    {
     "name": "stdout",
     "output_type": "stream",
     "text": [
      "Hypothesis: ['Sunny', 'Warm', '?', '?', 'Warm', 'Same']\n"
     ]
    }
   ],
   "source": [
    "# Print the hypothesis\n",
    "print('Hypothesis:', hypothesis)"
   ]
  }
 ],
 "metadata": {
  "kernelspec": {
   "display_name": "Python 3 (ipykernel)",
   "language": "python",
   "name": "python3"
  },
  "language_info": {
   "codemirror_mode": {
    "name": "ipython",
    "version": 3
   },
   "file_extension": ".py",
   "mimetype": "text/x-python",
   "name": "python",
   "nbconvert_exporter": "python",
   "pygments_lexer": "ipython3",
   "version": "3.10.5"
  }
 },
 "nbformat": 4,
 "nbformat_minor": 5
}
