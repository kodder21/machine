{
 "cells": [
  {
   "cell_type": "markdown",
   "id": "6d65f861",
   "metadata": {},
   "source": [
    "# 1. (b) Program to show the Laplacian Edge Detection"
   ]
  },
  {
   "cell_type": "code",
   "execution_count": null,
   "id": "90ced016",
   "metadata": {},
   "outputs": [],
   "source": [
    "import cv2\n",
    "import numpy as np\n",
    "\n",
    "# Load the image\n",
    "img = cv2.imread('cube.jpg', 0)\n",
    "\n",
    "# Apply Laplacian edge detection filter\n",
    "laplacian = cv2.Laplacian(img, cv2.CV_64F)\n",
    "\n",
    "# Convert the result to uint8 and normalize it\n",
    "edges = np.uint8(np.absolute(laplacian))\n",
    "edges = cv2.normalize(edges, None, 0, 255, cv2.NORM_MINMAX)\n",
    "\n",
    "# Display the original and the edge detected image\n",
    "cv2.imshow('Original', img)\n",
    "cv2.imshow('Laplacian Edges', edges)\n",
    "cv2.waitKey(0)\n",
    "cv2.destroyAllWindows()"
   ]
  }
 ],
 "metadata": {
  "kernelspec": {
   "display_name": "Python 3 (ipykernel)",
   "language": "python",
   "name": "python3"
  },
  "language_info": {
   "codemirror_mode": {
    "name": "ipython",
    "version": 3
   },
   "file_extension": ".py",
   "mimetype": "text/x-python",
   "name": "python",
   "nbconvert_exporter": "python",
   "pygments_lexer": "ipython3",
   "version": "3.10.5"
  }
 },
 "nbformat": 4,
 "nbformat_minor": 5
}
