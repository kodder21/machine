{
 "cells": [
  {
   "cell_type": "markdown",
   "id": "aa6e84c7",
   "metadata": {},
   "source": [
    "# 9. Python implementation of Reinforcement Learning Algorithm using Q-learning"
   ]
  },
  {
   "cell_type": "code",
   "execution_count": 8,
   "id": "357637b0",
   "metadata": {},
   "outputs": [],
   "source": [
    "import numpy as np\n",
    "\n",
    "# define the environment\n",
    "env = np.array([[-1, -1, -1, -1, 0, -1],\n",
    "                [-1, -1, -1, 0, -1, 100],\n",
    "                [-1, -1, -1, 0, -1, -1],\n",
    "                [-1, 0, 0, -1, 0, -1],\n",
    "                [0, -1, -1, 0, -1, 100],\n",
    "                [-1, 0, -1, -1, 0, 100]])"
   ]
  },
  {
   "cell_type": "code",
   "execution_count": 9,
   "id": "6516f883",
   "metadata": {},
   "outputs": [],
   "source": [
    "# define the Q matrix\n",
    "Q = np.zeros((6, 6))\n",
    "\n",
    "# define hyperparameters\n",
    "alpha = 0.8\n",
    "gamma = 0.95\n",
    "num_episodes = 1000"
   ]
  },
  {
   "cell_type": "code",
   "execution_count": 10,
   "id": "bff3fe3a",
   "metadata": {},
   "outputs": [
    {
     "name": "stdout",
     "output_type": "stream",
     "text": [
      "Q matrix after 100 episodes:\n",
      "[[ -0.8   -0.8    0.    89.25   0.     0.  ]\n",
      " [  0.     0.     0.     0.    94.     0.  ]\n",
      " [  0.    88.3    0.     0.    -0.8   -0.8 ]\n",
      " [  0.     0.     0.     0.    95.     0.  ]\n",
      " [  0.     0.     0.     0.    -0.8  100.  ]\n",
      " [  0.     0.     0.     0.     0.     0.  ]]\n",
      "\n",
      "Q matrix after 200 episodes:\n",
      "[[ -0.8   -0.8    0.    89.25   0.     0.  ]\n",
      " [  0.     0.     0.     0.    94.     0.  ]\n",
      " [  0.    88.3    0.     0.    -0.8   -0.8 ]\n",
      " [  0.     0.     0.     0.    95.     0.  ]\n",
      " [  0.     0.     0.     0.    -0.8  100.  ]\n",
      " [  0.     0.     0.     0.     0.     0.  ]]\n",
      "\n",
      "Q matrix after 300 episodes:\n",
      "[[ -0.8   -0.8    0.    89.25   0.     0.  ]\n",
      " [  0.     0.     0.     0.    94.     0.  ]\n",
      " [  0.    88.3    0.     0.    -0.8   -0.8 ]\n",
      " [  0.     0.     0.     0.    95.     0.  ]\n",
      " [  0.     0.     0.     0.    -0.8  100.  ]\n",
      " [  0.     0.     0.     0.     0.     0.  ]]\n",
      "\n",
      "Q matrix after 400 episodes:\n",
      "[[ -0.8   -0.8    0.    89.25   0.     0.  ]\n",
      " [  0.     0.     0.     0.    94.     0.  ]\n",
      " [  0.    88.3    0.     0.    -0.8   -0.8 ]\n",
      " [  0.     0.     0.     0.    95.     0.  ]\n",
      " [  0.     0.     0.     0.    -0.8  100.  ]\n",
      " [  0.     0.     0.     0.     0.     0.  ]]\n",
      "\n",
      "Q matrix after 500 episodes:\n",
      "[[ -0.8   -0.8    0.    89.25   0.     0.  ]\n",
      " [  0.     0.     0.     0.    94.     0.  ]\n",
      " [  0.    88.3    0.     0.    -0.8   -0.8 ]\n",
      " [  0.     0.     0.     0.    95.     0.  ]\n",
      " [  0.     0.     0.     0.    -0.8  100.  ]\n",
      " [  0.     0.     0.     0.     0.     0.  ]]\n",
      "\n",
      "Q matrix after 600 episodes:\n",
      "[[ -0.8   -0.8    0.    89.25   0.     0.  ]\n",
      " [  0.     0.     0.     0.    94.     0.  ]\n",
      " [  0.    88.3    0.     0.    -0.8   -0.8 ]\n",
      " [  0.     0.     0.     0.    95.     0.  ]\n",
      " [  0.     0.     0.     0.    -0.8  100.  ]\n",
      " [  0.     0.     0.     0.     0.     0.  ]]\n",
      "\n",
      "Q matrix after 700 episodes:\n",
      "[[ -0.8   -0.8    0.    89.25   0.     0.  ]\n",
      " [  0.     0.     0.     0.    94.     0.  ]\n",
      " [  0.    88.3    0.     0.    -0.8   -0.8 ]\n",
      " [  0.     0.     0.     0.    95.     0.  ]\n",
      " [  0.     0.     0.     0.    -0.8  100.  ]\n",
      " [  0.     0.     0.     0.     0.     0.  ]]\n",
      "\n",
      "Q matrix after 800 episodes:\n",
      "[[ -0.8   -0.8    0.    89.25   0.     0.  ]\n",
      " [  0.     0.     0.     0.    94.     0.  ]\n",
      " [  0.    88.3    0.     0.    -0.8   -0.8 ]\n",
      " [  0.     0.     0.     0.    95.     0.  ]\n",
      " [  0.     0.     0.     0.    -0.8  100.  ]\n",
      " [  0.     0.     0.     0.     0.     0.  ]]\n",
      "\n",
      "Q matrix after 900 episodes:\n",
      "[[ -0.8   -0.8    0.    89.25   0.     0.  ]\n",
      " [  0.     0.     0.     0.    94.     0.  ]\n",
      " [  0.    88.3    0.     0.    -0.8   -0.8 ]\n",
      " [  0.     0.     0.     0.    95.     0.  ]\n",
      " [  0.     0.     0.     0.    -0.8  100.  ]\n",
      " [  0.     0.     0.     0.     0.     0.  ]]\n",
      "\n",
      "Q matrix after 1000 episodes:\n",
      "[[ -0.8   -0.8    0.    89.25   0.     0.  ]\n",
      " [  0.     0.     0.     0.    94.     0.  ]\n",
      " [  0.    88.3    0.     0.    -0.8   -0.8 ]\n",
      " [  0.     0.     0.     0.    95.     0.  ]\n",
      " [  0.     0.     0.     0.    -0.8  100.  ]\n",
      " [  0.     0.     0.     0.     0.     0.  ]]\n",
      "\n"
     ]
    }
   ],
   "source": [
    "# Q-learning algorithm\n",
    "for episode in range(num_episodes):\n",
    "    # initialize the starting state\n",
    "    state = np.random.randint(0, 6)\n",
    "    \n",
    "    # keep looping until we reach the goal state\n",
    "    while state != 5:\n",
    "        # choose an action using the Q matrix and some randomness\n",
    "        action = np.random.choice(np.where(Q[state] == np.max(Q[state]))[0])\n",
    "        \n",
    "        # take the chosen action and observe the next state and reward\n",
    "        next_state = action\n",
    "        reward = env[state, next_state]\n",
    "        \n",
    "        # update the Q matrix using the Q-learning update rule\n",
    "        Q[state, action] = (1 - alpha) * Q[state, action] + alpha * (reward + gamma * np.max(Q[next_state]))\n",
    "        \n",
    "        # set the next state as the current state\n",
    "        state = next_state\n",
    "        \n",
    "    # print the Q matrix after every 100 episodes\n",
    "    if (episode + 1) % 100 == 0:\n",
    "        print(\"Q matrix after {} episodes:\".format(episode + 1))\n",
    "        print(Q)\n",
    "        print()"
   ]
  },
  {
   "cell_type": "code",
   "execution_count": 11,
   "id": "161c2b70",
   "metadata": {},
   "outputs": [
    {
     "name": "stdout",
     "output_type": "stream",
     "text": [
      "Final Q matrix:\n",
      "[[ -0.8   -0.8    0.    89.25   0.     0.  ]\n",
      " [  0.     0.     0.     0.    94.     0.  ]\n",
      " [  0.    88.3    0.     0.    -0.8   -0.8 ]\n",
      " [  0.     0.     0.     0.    95.     0.  ]\n",
      " [  0.     0.     0.     0.    -0.8  100.  ]\n",
      " [  0.     0.     0.     0.     0.     0.  ]]\n"
     ]
    }
   ],
   "source": [
    "# print the final Q matrix\n",
    "print(\"Final Q matrix:\")\n",
    "print(Q)"
   ]
  }
 ],
 "metadata": {
  "kernelspec": {
   "display_name": "Python 3 (ipykernel)",
   "language": "python",
   "name": "python3"
  },
  "language_info": {
   "codemirror_mode": {
    "name": "ipython",
    "version": 3
   },
   "file_extension": ".py",
   "mimetype": "text/x-python",
   "name": "python",
   "nbconvert_exporter": "python",
   "pygments_lexer": "ipython3",
   "version": "3.10.5"
  }
 },
 "nbformat": 4,
 "nbformat_minor": 5
}
