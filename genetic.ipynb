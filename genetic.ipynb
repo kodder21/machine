{
 "cells": [
  {
   "cell_type": "markdown",
   "id": "3c549f31",
   "metadata": {},
   "source": [
    "# 10. Program to implement a simple Genetic Algorithm from scratch."
   ]
  },
  {
   "cell_type": "code",
   "execution_count": 11,
   "id": "302b414d",
   "metadata": {},
   "outputs": [],
   "source": [
    "import random\n",
    "import numpy as np"
   ]
  },
  {
   "cell_type": "code",
   "execution_count": 12,
   "id": "da93423c",
   "metadata": {},
   "outputs": [],
   "source": [
    "# Define the fitness function\n",
    "def fitness_function(individual):\n",
    "    return sum(individual)"
   ]
  },
  {
   "cell_type": "code",
   "execution_count": 13,
   "id": "482702a3",
   "metadata": {},
   "outputs": [],
   "source": [
    "# Define the Simple Genetic Algorithm\n",
    "def simple_genetic_algorithm(population_size, chromosome_length, generations):\n",
    "    # Create the initial population\n",
    "    population = []\n",
    "    for i in range(population_size):\n",
    "        chromosome = [random.randint(0, 1) for j in range(chromosome_length)]\n",
    "        population.append(chromosome)\n",
    "\n",
    "    # Run the evolution for the specified number of generations\n",
    "    for generation in range(generations):\n",
    "        # Evaluate the fitness of each individual in the population\n",
    "        fitness_values = [fitness_function(individual) for individual in population]\n",
    "\n",
    "        # Select the parents for reproduction\n",
    "        parents = []\n",
    "        for i in range(population_size):\n",
    "            parent1 = population[random.randint(0, population_size-1)]\n",
    "            parent2 = population[random.randint(0, population_size-1)]\n",
    "            parents.append((parent1, parent2))\n",
    "\n",
    "        # Reproduce to create the next generation\n",
    "        offspring = []\n",
    "        for parent1, parent2 in parents:\n",
    "            crossover_point = random.randint(0, chromosome_length-1)\n",
    "            child = parent1[:crossover_point] + parent2[crossover_point:]\n",
    "            offspring.append(child)\n",
    "\n",
    "        # Mutate the offspring\n",
    "        for i in range(population_size):\n",
    "            for j in range(chromosome_length):\n",
    "                if random.random() < 0.1:\n",
    "                    offspring[i][j] = 1 - offspring[i][j]\n",
    "\n",
    "        # Replace the old population with the new generation\n",
    "        population = offspring\n",
    "\n",
    "    # Return the best individual found in the final generation\n",
    "    fitness_values = [fitness_function(individual) for individual in population]\n",
    "    best_individual = population[np.argmax(fitness_values)]\n",
    "    return best_individual\n"
   ]
  },
  {
   "cell_type": "code",
   "execution_count": 14,
   "id": "85658608",
   "metadata": {},
   "outputs": [
    {
     "name": "stdout",
     "output_type": "stream",
     "text": [
      "Best Individual:  [1, 1, 1, 1, 1, 1, 1, 1, 0, 1]\n"
     ]
    }
   ],
   "source": [
    "# Run the Simple Genetic Algorithm\n",
    "best_individual = simple_genetic_algorithm(population_size=100, chromosome_length=10, generations=50)\n",
    "\n",
    "# Print the best individual found\n",
    "print(\"Best Individual: \", best_individual)"
   ]
  }
 ],
 "metadata": {
  "kernelspec": {
   "display_name": "Python 3 (ipykernel)",
   "language": "python",
   "name": "python3"
  },
  "language_info": {
   "codemirror_mode": {
    "name": "ipython",
    "version": 3
   },
   "file_extension": ".py",
   "mimetype": "text/x-python",
   "name": "python",
   "nbconvert_exporter": "python",
   "pygments_lexer": "ipython3",
   "version": "3.10.5"
  }
 },
 "nbformat": 4,
 "nbformat_minor": 5
}
